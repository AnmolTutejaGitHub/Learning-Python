{
 "cells": [
  {
   "cell_type": "code",
   "execution_count": 3,
   "id": "8351443d",
   "metadata": {},
   "outputs": [],
   "source": [
    "#To open a file for reading it is enough to specify the name of the file\n",
    "f = open(\"file.txt\")\n",
    "\n",
    "#Note: Make sure the file exists, or else you will get an error."
   ]
  },
  {
   "cell_type": "code",
   "execution_count": 4,
   "id": "57cf637e",
   "metadata": {},
   "outputs": [],
   "source": [
    "#same code as above, Because \"r\" for read, and \"t\" for text are the default values, you do not need to specify them\n",
    "f = open(\"file.txt\", \"rt\")"
   ]
  },
  {
   "cell_type": "code",
   "execution_count": 5,
   "id": "9bbe1dc9",
   "metadata": {},
   "outputs": [
    {
     "name": "stdout",
     "output_type": "stream",
     "text": [
      "definition=\"A computer file is a computer resource for recording data discretely in a\n",
      "computer storage device. Just as words can be written \n",
      "to paper, so can information be written to a computer\n",
      "file. Files can be edited and transferred through the \n",
      "internet on that particular computer system\"\n"
     ]
    }
   ],
   "source": [
    "#To open the file, use the built-in open() function.\n",
    "\n",
    "#The open() function returns a file object, which has a read() method for reading the content of the file\n",
    "\n",
    "f = open(\"file.txt\", \"r\")\n",
    "print(f.read())"
   ]
  },
  {
   "cell_type": "code",
   "execution_count": 6,
   "id": "e4de703e",
   "metadata": {},
   "outputs": [
    {
     "name": "stdout",
     "output_type": "stream",
     "text": [
      "defin\n"
     ]
    }
   ],
   "source": [
    "#Return the 5 first characters of the file:\n",
    "\n",
    "f = open(\"file.txt\", \"r\")\n",
    "print(f.read(5))"
   ]
  },
  {
   "cell_type": "code",
   "execution_count": 20,
   "id": "674aaf55",
   "metadata": {},
   "outputs": [
    {
     "name": "stdout",
     "output_type": "stream",
     "text": [
      "definition=\"A computer file is a computer resource for recording data discretely in a\n",
      "computer storage device. Just as words can be written \n",
      "to paper, so can information be written to a computer\n",
      "file. Files can be edited and transferred through the \n",
      "internet on that particular computer system\"Now the file has more content!\n",
      "Now the file has more content!\n",
      "\n",
      "Now the file has more content!\n",
      "\n",
      "Now the file has more content!\n"
     ]
    }
   ],
   "source": [
    "#Write to an Existing File\n",
    "#To write to an existing file, you must add a parameter to the open() function:\n",
    "#\"a\" - Append - will append to the end of the file\n",
    "#\"w\" - Write - will overwrite any existing content\n",
    "f = open(\"file.txt\", \"a\")\n",
    "f.write(\"\\n\\nNow the file has more content!\")\n",
    "f.close()\n",
    "\n",
    "#open and read the file after the appending:\n",
    "f = open(\"file.txt\", \"r\")\n",
    "print(f.read())"
   ]
  },
  {
   "cell_type": "code",
   "execution_count": 10,
   "id": "078b24e7",
   "metadata": {},
   "outputs": [
    {
     "name": "stdout",
     "output_type": "stream",
     "text": [
      "definition\n",
      "definition=\"A computer file is a computer resource for recording data discretely in a\n",
      "computer storage device. Just as words can be written \n",
      "to paper, so can information be written to a computer\n",
      "file. Files can be edited and transferred through the \n",
      "internet on that particular computer system\"Now the file has more content!\n",
      "Now the file has more content!\n",
      "\n",
      "Now the file has more content!\n",
      "\n",
      "Now the file has more content!hello\n",
      "how\n",
      "are\n",
      "you\n",
      "\n",
      "Now the file has more content!hello\n",
      "how\n",
      "are\n",
      "you\n",
      "\n",
      "Now the file has more content!hello\n",
      "how\n",
      "are\n",
      "you\n",
      "\n",
      "Now the file has more content!hello\n",
      "how\n",
      "are\n",
      "you\n",
      "\n",
      "Now the file has more content!\n"
     ]
    }
   ],
   "source": [
    "with open(\"file.txt\", 'r+') as f1:\n",
    "    print(f1.read(10))\n",
    "    f1.write(\"hello\")\n",
    "    f1.write(\"\\nhow\")\n",
    "    f1.write(\"\\nare\")\n",
    "    f1.write(\"\\nyou\")\n",
    "    f1.write(\"\\n\\nNow the file has more content!\")\n",
    "    f1.close()\n",
    "\n",
    "#open and read the file after the appending:\n",
    "with open(\"file.txt\", \"r\") as f1:\n",
    "    print(f1.read())"
   ]
  },
  {
   "cell_type": "code",
   "execution_count": 18,
   "id": "cfbcca8b",
   "metadata": {},
   "outputs": [],
   "source": [
    "#Create a New File\n",
    "#To create a new file in Python, use the open() method, with one of the following parameters:\n",
    "#\"x\" - Create - will create a file, returns an error if the file exist\n",
    "f = open(\"newfile1.txt\", \"x\")\n",
    "\n"
   ]
  },
  {
   "cell_type": "code",
   "execution_count": 24,
   "id": "c4264324",
   "metadata": {},
   "outputs": [
    {
     "name": "stdout",
     "output_type": "stream",
     "text": [
      "Now the new file has been created!\n"
     ]
    }
   ],
   "source": [
    "#\"w\" - Write - will create a file if the specified file does not exist\n",
    "f = open(\"myfile.txt\", \"w\")\n",
    "f.write(\"Now the new file has been created!\")\n",
    "f.close()\n",
    "\n",
    "#open and read the file after the appending:\n",
    "f = open(\"myfile.txt\", \"r\")\n",
    "print(f.read())"
   ]
  },
  {
   "cell_type": "code",
   "execution_count": 25,
   "id": "d5c1a114",
   "metadata": {},
   "outputs": [],
   "source": [
    "#Delete a File\n",
    "#To delete a file, you must import the OS module, and run its os.remove() function:\n",
    "import os\n",
    "os.remove(\"newfile.txt\")"
   ]
  },
  {
   "cell_type": "code",
   "execution_count": 26,
   "id": "bd85a2ab",
   "metadata": {},
   "outputs": [
    {
     "name": "stdout",
     "output_type": "stream",
     "text": [
      "['__class__', '__delattr__', '__dict__', '__dir__', '__doc__', '__eq__', '__format__', '__ge__', '__getattribute__', '__getstate__', '__gt__', '__hash__', '__init__', '__init_subclass__', '__le__', '__lt__', '__module__', '__ne__', '__new__', '__reduce__', '__reduce_ex__', '__repr__', '__setattr__', '__sizeof__', '__str__', '__subclasshook__', '__weakref__', 'age', 'country', 'name']\n"
     ]
    }
   ],
   "source": [
    "#Python dir() Function\n",
    "#The dir() function returns all properties and methods of the specified object, without the values.\n",
    "#Display the content of an object\n",
    "\n",
    "class Person:\n",
    "  name = \"John\"\n",
    "  age = 36\n",
    "  country = \"Norway\"\n",
    "\n",
    "print(dir(Person))"
   ]
  },
  {
   "cell_type": "code",
   "execution_count": 29,
   "id": "529b7ee6",
   "metadata": {},
   "outputs": [
    {
     "name": "stdout",
     "output_type": "stream",
     "text": [
      "Succesfully created directory C:/Users/hp/TestDirectory\n"
     ]
    }
   ],
   "source": [
    "#Create a directory\n",
    "#Import os Library\n",
    "import os\n",
    "\n",
    "# The directory that will be created\n",
    "path = \"C:/Users/hp/TestDirectory\"\n",
    "\n",
    "# use os.mkdir() to create the directory\n",
    "os.mkdir(path)\n",
    "\n",
    "print(\"Succesfully created directory \" + path)\n"
   ]
  },
  {
   "cell_type": "code",
   "execution_count": 30,
   "id": "e5604e86",
   "metadata": {},
   "outputs": [
    {
     "name": "stdout",
     "output_type": "stream",
     "text": [
      "Succesfully created directory C:/Users/hp/TestDirectory/ReadWriteDirectory\n"
     ]
    }
   ],
   "source": [
    "#Providing Permissions for Reading and Writing Operations Within the Directory\n",
    "#setting mode = 0o666 allows the user to perform read and write file operations within the created directory\n",
    "# The directory that will be created\n",
    "path = \"C:/Users/hp/TestDirectory/ReadWriteDirectory\"\n",
    "\n",
    "# use os.mkdir() to create the directory\n",
    "os.mkdir(path,mode = 0o666)\n",
    "\n",
    "print(\"Succesfully created directory \" + path)"
   ]
  },
  {
   "cell_type": "code",
   "execution_count": 31,
   "id": "ddb1048a",
   "metadata": {},
   "outputs": [
    {
     "name": "stdout",
     "output_type": "stream",
     "text": [
      "Now the new file has been created in ReadWriteDirectory!\n"
     ]
    }
   ],
   "source": [
    "f = open(\"C:/Users/hp/TestDirectory/ReadWriteDirectory/myfile.txt\", \"w\")\n",
    "f.write(\"Now the new file has been created in ReadWriteDirectory!\")\n",
    "f.close()\n",
    "\n",
    "#open and read the file after the appending:\n",
    "f = open(\"C:/Users/hp/TestDirectory/ReadWriteDirectory/myfile.txt\", \"r\")\n",
    "print(f.read())"
   ]
  },
  {
   "cell_type": "code",
   "execution_count": 3,
   "id": "3cf82430",
   "metadata": {},
   "outputs": [
    {
     "name": "stdout",
     "output_type": "stream",
     "text": [
      "Content:  a computer resource for recording data discretely in a\n",
      "computer storage device. Just as words can be written \n",
      "to paper, so can information be written to a computer\n",
      "file. Files can be edited and transferred through the \n",
      "internet on that particular computer system\"Now the file has more content!\n",
      "Now the file has more content!\n",
      "\n",
      "Now the file has more content!\n",
      "\n",
      "Now the file has more content!hello\n",
      "how\n",
      "are\n",
      "you\n",
      "\n",
      "Now the file has more content!hello\n",
      "how\n",
      "are\n",
      "you\n",
      "\n",
      "Now the file has more content!hello\n",
      "how\n",
      "are\n",
      "you\n",
      "\n",
      "Now the file has more content!hello\n",
      "how\n",
      "are\n",
      "you\n",
      "\n",
      "Now the file has more content!\n"
     ]
    }
   ],
   "source": [
    "# Open the file in read mode\n",
    "f = open('file.txt', 'r')\n",
    "\n",
    "# Reset the read position to the beginning of the file\n",
    "f.seek(30)\n",
    "\n",
    "# Read the content from the new position\n",
    "content = f.read()\n",
    "\n",
    "# Print the content\n",
    "print(\"Content:\", content)\n",
    "\n",
    "# Close the file\n",
    "f.close()"
   ]
  },
  {
   "cell_type": "code",
   "execution_count": 1,
   "id": "37b40922",
   "metadata": {},
   "outputs": [
    {
     "ename": "SyntaxError",
     "evalue": "invalid syntax (3711470103.py, line 5)",
     "output_type": "error",
     "traceback": [
      "\u001b[1;36m  Cell \u001b[1;32mIn[1], line 5\u001b[1;36m\u001b[0m\n\u001b[1;33m    while True print('Hello world')\u001b[0m\n\u001b[1;37m               ^\u001b[0m\n\u001b[1;31mSyntaxError\u001b[0m\u001b[1;31m:\u001b[0m invalid syntax\n"
     ]
    }
   ],
   "source": [
    "#two distinguishable kinds of errors: syntax errors and exceptions.\n",
    "\n",
    "#Syntax errors, also known as parsing errors\n",
    "\n",
    "while True print('Hello world')\n",
    "  \n",
    "\n",
    "#the error is detected at the function print(), since a colon (':') is missing before it"
   ]
  },
  {
   "cell_type": "code",
   "execution_count": 2,
   "id": "d5162a59",
   "metadata": {},
   "outputs": [
    {
     "ename": "ZeroDivisionError",
     "evalue": "division by zero",
     "output_type": "error",
     "traceback": [
      "\u001b[1;31m---------------------------------------------------------------------------\u001b[0m",
      "\u001b[1;31mZeroDivisionError\u001b[0m                         Traceback (most recent call last)",
      "Cell \u001b[1;32mIn[2], line 6\u001b[0m\n\u001b[0;32m      1\u001b[0m \u001b[38;5;66;03m#Exceptions\u001b[39;00m\n\u001b[0;32m      2\u001b[0m \u001b[38;5;66;03m#Even if a statement or expression is syntactically correct, \u001b[39;00m\n\u001b[0;32m      3\u001b[0m \u001b[38;5;66;03m#it may cause an error when an attempt is made to execute it. \u001b[39;00m\n\u001b[0;32m      4\u001b[0m \u001b[38;5;66;03m#Errors detected during execution are called exceptions \u001b[39;00m\n\u001b[1;32m----> 6\u001b[0m \u001b[38;5;241m10\u001b[39m \u001b[38;5;241m*\u001b[39m (\u001b[38;5;241m1\u001b[39m\u001b[38;5;241m/\u001b[39m\u001b[38;5;241m0\u001b[39m)\n",
      "\u001b[1;31mZeroDivisionError\u001b[0m: division by zero"
     ]
    }
   ],
   "source": [
    "#Exceptions\n",
    "#Even if a statement or expression is syntactically correct, \n",
    "#it may cause an error when an attempt is made to execute it. \n",
    "#Errors detected during execution are called exceptions \n",
    "#3 TYPES: Name Error, Type Error, Zero Division Error\n",
    "\n",
    "10 * (1/0)"
   ]
  },
  {
   "cell_type": "code",
   "execution_count": 3,
   "id": "e2c28c0e",
   "metadata": {},
   "outputs": [
    {
     "ename": "NameError",
     "evalue": "name 'spam' is not defined",
     "output_type": "error",
     "traceback": [
      "\u001b[1;31m---------------------------------------------------------------------------\u001b[0m",
      "\u001b[1;31mNameError\u001b[0m                                 Traceback (most recent call last)",
      "Cell \u001b[1;32mIn[3], line 1\u001b[0m\n\u001b[1;32m----> 1\u001b[0m \u001b[38;5;241m4\u001b[39m \u001b[38;5;241m+\u001b[39m spam\u001b[38;5;241m*\u001b[39m\u001b[38;5;241m3\u001b[39m\n",
      "\u001b[1;31mNameError\u001b[0m: name 'spam' is not defined"
     ]
    }
   ],
   "source": [
    "4 + spam*3"
   ]
  },
  {
   "cell_type": "code",
   "execution_count": 4,
   "id": "54698705",
   "metadata": {},
   "outputs": [
    {
     "ename": "TypeError",
     "evalue": "can only concatenate str (not \"int\") to str",
     "output_type": "error",
     "traceback": [
      "\u001b[1;31m---------------------------------------------------------------------------\u001b[0m",
      "\u001b[1;31mTypeError\u001b[0m                                 Traceback (most recent call last)",
      "Cell \u001b[1;32mIn[4], line 1\u001b[0m\n\u001b[1;32m----> 1\u001b[0m \u001b[38;5;124m'\u001b[39m\u001b[38;5;124m2\u001b[39m\u001b[38;5;124m'\u001b[39m \u001b[38;5;241m+\u001b[39m \u001b[38;5;241m2\u001b[39m\n",
      "\u001b[1;31mTypeError\u001b[0m: can only concatenate str (not \"int\") to str"
     ]
    }
   ],
   "source": [
    "'2' + 2"
   ]
  },
  {
   "cell_type": "code",
   "execution_count": 6,
   "id": "184af576",
   "metadata": {},
   "outputs": [
    {
     "name": "stdout",
     "output_type": "stream",
     "text": [
      "Please enter a number: q\n",
      "Oops!  That was no valid number.  Try again...\n",
      "Please enter a number: 1\n"
     ]
    }
   ],
   "source": [
    "#Handling Exceptions\n",
    "while True:\n",
    "    try:\n",
    "        x = int(input(\"Please enter a number: \"))\n",
    "        break\n",
    "    except ValueError:\n",
    "        print(\"Oops!  That was no valid number.  Try again...\")\n",
    "        \n",
    "#If no exception occurs, the except clause is skipped and execution of the try statement is finished.\n",
    "\n",
    "#If an exception occurs during execution of the try clause, the rest of the clause is skipped. \n",
    "\n",
    "#Then, if its type matches the exception named after the except keyword, \n",
    "\n",
    "#the except clause is executed, and then execution continues after the try/except block."
   ]
  },
  {
   "cell_type": "code",
   "execution_count": 11,
   "id": "63a51889",
   "metadata": {},
   "outputs": [
    {
     "name": "stdout",
     "output_type": "stream",
     "text": [
      "Please enter a number: q\n",
      "Please enter a number: 1\n"
     ]
    }
   ],
   "source": [
    "# An except clause may name multiple exceptions as a parenthesized tuple, for example:\n",
    "\n",
    "while True:\n",
    "    try:\n",
    "        x = int(input(\"Please enter a number: \"))\n",
    "        break\n",
    "    except (ValueError, RuntimeError, TypeError, NameError):\n",
    "        pass"
   ]
  },
  {
   "cell_type": "code",
   "execution_count": 15,
   "id": "8f0ad5e9",
   "metadata": {},
   "outputs": [
    {
     "name": "stdout",
     "output_type": "stream",
     "text": [
      "B\n",
      "C\n",
      "D\n"
     ]
    }
   ],
   "source": [
    "#A try statement may have more than one except clause, \n",
    "#to specify handlers for different exceptions. \n",
    "#At most one handler will be executed\n",
    "\n",
    "class B(Exception):\n",
    "    pass\n",
    "\n",
    "class C(B):\n",
    "    pass\n",
    "\n",
    "class D(C):\n",
    "    pass\n",
    "\n",
    "for cls in [B,C,D]:\n",
    "    try:\n",
    "        raise cls()\n",
    "    except D:\n",
    "        print(\"D\")\n",
    "    except C:\n",
    "        print(\"C\")\n",
    "    except B:\n",
    "        print(\"B\")"
   ]
  },
  {
   "cell_type": "code",
   "execution_count": 17,
   "id": "51740b4c",
   "metadata": {},
   "outputs": [
    {
     "name": "stdout",
     "output_type": "stream",
     "text": [
      "<class 'Exception'>\n",
      "('spam', 'eggs')\n",
      "('spam', 'eggs')\n",
      "x = spam\n",
      "y = eggs\n"
     ]
    }
   ],
   "source": [
    "#The except clause may specify a variable after the exception name\n",
    "\n",
    "try:\n",
    "    raise Exception('spam', 'eggs')\n",
    "except Exception as instance:\n",
    "    print(type(instance))    # the type of exception \n",
    "    print(instance.args)     # list arguments stored in .args\n",
    "    print(instance)          # __str__ allows args to be printed directly,\n",
    "                            #but may be overridden in exception subclasses\n",
    "    x, y = instance.args     # unpacking of args\n",
    "    print('x =', x)\n",
    "    print('y =', y)"
   ]
  },
  {
   "cell_type": "code",
   "execution_count": 5,
   "id": "908162cc",
   "metadata": {},
   "outputs": [
    {
     "name": "stdout",
     "output_type": "stream",
     "text": [
      "Could not convert data to an integer.\n"
     ]
    }
   ],
   "source": [
    "#The most common pattern for handling Exception is to print or log the exception and then re-raise it \n",
    "#(allowing a caller to handle the exception as well):\n",
    "\n",
    "import sys\n",
    "try:\n",
    "    f = open('myfile.txt')\n",
    "    s = f.readline()\n",
    "    i = int(s.strip())\n",
    "except OSError as err:\n",
    "    print(\"OS error:\", err)\n",
    "except ValueError:\n",
    "    print(\"Could not convert data to an integer.\")\n",
    "except Exception as err:\n",
    "    print(f\"Unexpected {err=}, {type(err)=}\")\n",
    "    raise"
   ]
  },
  {
   "cell_type": "code",
   "execution_count": 4,
   "id": "e13148c7",
   "metadata": {},
   "outputs": [
    {
     "name": "stdout",
     "output_type": "stream",
     "text": [
      "cannot open -f\n",
      "C:\\Users\\hp\\AppData\\Roaming\\jupyter\\runtime\\kernel-6c59aaf2-c0fd-49c0-83ff-8087f22870a0.json has 12 lines\n"
     ]
    }
   ],
   "source": [
    "#The try … except statement has an optional else clause, \n",
    "#which, when present, must follow all except clauses. \n",
    "\n",
    "for arg in sys.argv[1:]:\n",
    "    try:\n",
    "        f = open(arg, 'r')\n",
    "    except OSError:\n",
    "        print('cannot open', arg)\n",
    "    else:\n",
    "        print(arg, 'has', len(f.readlines()), 'lines')\n",
    "        f.close()"
   ]
  },
  {
   "cell_type": "code",
   "execution_count": 23,
   "id": "f1681b4a",
   "metadata": {},
   "outputs": [
    {
     "name": "stdout",
     "output_type": "stream",
     "text": [
      "Handling run-time error: division by zero\n"
     ]
    }
   ],
   "source": [
    "#Exception handlers do not handle only exceptions that occur immediately in the try clause, \n",
    "#but also those that occur inside functions that are called (even indirectly) \n",
    "#in the try clause\n",
    "\n",
    "def this_fails():\n",
    "    x = 1/0\n",
    "try:\n",
    "    this_fails()\n",
    "except ZeroDivisionError as err:\n",
    "    print('Handling run-time error:', err)"
   ]
  },
  {
   "cell_type": "code",
   "execution_count": 24,
   "id": "8c1af8cf",
   "metadata": {},
   "outputs": [
    {
     "ename": "NameError",
     "evalue": "HiThere",
     "output_type": "error",
     "traceback": [
      "\u001b[1;31m---------------------------------------------------------------------------\u001b[0m",
      "\u001b[1;31mNameError\u001b[0m                                 Traceback (most recent call last)",
      "Cell \u001b[1;32mIn[24], line 4\u001b[0m\n\u001b[0;32m      1\u001b[0m \u001b[38;5;66;03m#Raising Exceptions\u001b[39;00m\n\u001b[0;32m      2\u001b[0m \u001b[38;5;66;03m#The raise statement allows the programmer to force a specified exception to occur\u001b[39;00m\n\u001b[1;32m----> 4\u001b[0m \u001b[38;5;28;01mraise\u001b[39;00m \u001b[38;5;167;01mNameError\u001b[39;00m(\u001b[38;5;124m'\u001b[39m\u001b[38;5;124mHiThere\u001b[39m\u001b[38;5;124m'\u001b[39m)\n",
      "\u001b[1;31mNameError\u001b[0m: HiThere"
     ]
    }
   ],
   "source": [
    "#Raising Exceptions\n",
    "#The raise statement allows the programmer to force a \n",
    "#specified exception to occur\n",
    "\n",
    "raise NameError('HiThere')   #The sole argument to raise indicates \n",
    "#the exception to be raised\n"
   ]
  },
  {
   "cell_type": "code",
   "execution_count": 27,
   "id": "cc7d109d",
   "metadata": {},
   "outputs": [
    {
     "name": "stdout",
     "output_type": "stream",
     "text": [
      "An exception flew by!\n"
     ]
    },
    {
     "ename": "NameError",
     "evalue": "HiThere",
     "output_type": "error",
     "traceback": [
      "\u001b[1;31m---------------------------------------------------------------------------\u001b[0m",
      "\u001b[1;31mNameError\u001b[0m                                 Traceback (most recent call last)",
      "Cell \u001b[1;32mIn[27], line 5\u001b[0m\n\u001b[0;32m      1\u001b[0m \u001b[38;5;66;03m#If you need to determine whether an exception was raised but don’t intend to handle it, \u001b[39;00m\n\u001b[0;32m      2\u001b[0m \u001b[38;5;66;03m#a simpler form of the raise statement allows you to re-raise the exception\u001b[39;00m\n\u001b[0;32m      4\u001b[0m \u001b[38;5;28;01mtry\u001b[39;00m:\n\u001b[1;32m----> 5\u001b[0m     \u001b[38;5;28;01mraise\u001b[39;00m \u001b[38;5;167;01mNameError\u001b[39;00m(\u001b[38;5;124m'\u001b[39m\u001b[38;5;124mHiThere\u001b[39m\u001b[38;5;124m'\u001b[39m)\n\u001b[0;32m      6\u001b[0m \u001b[38;5;28;01mexcept\u001b[39;00m \u001b[38;5;167;01mNameError\u001b[39;00m:\n\u001b[0;32m      7\u001b[0m     \u001b[38;5;28mprint\u001b[39m(\u001b[38;5;124m'\u001b[39m\u001b[38;5;124mAn exception flew by!\u001b[39m\u001b[38;5;124m'\u001b[39m)\n",
      "\u001b[1;31mNameError\u001b[0m: HiThere"
     ]
    }
   ],
   "source": [
    "#If you need to determine whether an exception was raised but don’t intend to handle it, \n",
    "#a simpler form of the raise statement allows you to re-raise the exception\n",
    "\n",
    "try:\n",
    "    raise NameError('HiThere')\n",
    "except NameError:\n",
    "    print('An exception flew by!')\n",
    "    raise"
   ]
  },
  {
   "cell_type": "code",
   "execution_count": null,
   "id": "3f53ba9d",
   "metadata": {},
   "outputs": [],
   "source": [
    "#User-defined Exceptions\n",
    "\n",
    "#Programs may name their own exceptions by creating a new exception class\n",
    "\n",
    "#Exception classes can be defined which do anything any other class can do,\n",
    "#but are usually kept simple,\n",
    "\n"
   ]
  },
  {
   "cell_type": "code",
   "execution_count": 28,
   "id": "f40b2950",
   "metadata": {},
   "outputs": [
    {
     "name": "stdout",
     "output_type": "stream",
     "text": [
      "Goodbye, world!\n"
     ]
    },
    {
     "ename": "KeyboardInterrupt",
     "evalue": "",
     "output_type": "error",
     "traceback": [
      "\u001b[1;31m---------------------------------------------------------------------------\u001b[0m",
      "\u001b[1;31mKeyboardInterrupt\u001b[0m                         Traceback (most recent call last)",
      "Cell \u001b[1;32mIn[28], line 7\u001b[0m\n\u001b[0;32m      1\u001b[0m \u001b[38;5;66;03m#Defining Clean-up Actions\u001b[39;00m\n\u001b[0;32m      2\u001b[0m \n\u001b[0;32m      3\u001b[0m \u001b[38;5;66;03m#The try statement has another optional clause \u001b[39;00m\n\u001b[0;32m      4\u001b[0m \u001b[38;5;66;03m#to define clean-up actions that must be executed under all circumstances\u001b[39;00m\n\u001b[0;32m      6\u001b[0m \u001b[38;5;28;01mtry\u001b[39;00m:\n\u001b[1;32m----> 7\u001b[0m     \u001b[38;5;28;01mraise\u001b[39;00m \u001b[38;5;167;01mKeyboardInterrupt\u001b[39;00m\n\u001b[0;32m      8\u001b[0m \u001b[38;5;28;01mfinally\u001b[39;00m:\n\u001b[0;32m      9\u001b[0m     \u001b[38;5;28mprint\u001b[39m(\u001b[38;5;124m'\u001b[39m\u001b[38;5;124mGoodbye, world!\u001b[39m\u001b[38;5;124m'\u001b[39m)\n",
      "\u001b[1;31mKeyboardInterrupt\u001b[0m: "
     ]
    }
   ],
   "source": [
    "#Defining Clean-up Actions\n",
    "\n",
    "#The try statement has another optional clause \n",
    "#to define clean-up actions that must be executed under all circumstances\n",
    "\n",
    "try:\n",
    "    raise KeyboardInterrupt\n",
    "finally:                    #If a finally clause is present, the finally clause \n",
    "                            #will execute as the last task before the try statement completes\n",
    "    print('Goodbye, world!')\n",
    "\n",
    "#The finally clause runs whether or not the try statement produces an exception"
   ]
  },
  {
   "cell_type": "code",
   "execution_count": null,
   "id": "e1bdd573",
   "metadata": {},
   "outputs": [],
   "source": [
    "#**POINTS TO REMEMBER**\n",
    "\n",
    "#**If an exception occurs during execution of the try clause, \n",
    "#the exception may be handled by an except clause** \n",
    "\n",
    "#**If the exception is not handled by an except clause, \n",
    "#the exception is re-raised after the finally clause has been executed**.\n",
    "\n",
    "#**An exception could occur during execution of an except or else clause. \n",
    "#Again, the exception is re-raised after the finally clause has been executed**.\n",
    "\n",
    "#**If the finally clause executes a break, continue or return statement, exceptions are not re-raised**.\n",
    "\n",
    "#**If the try statement reaches a break, continue or return statement, \n",
    "#the finally clause will execute just prior to the break, continue or return statement’s execution**.\n",
    "\n",
    "#**If a finally clause includes a return statement, \n",
    "#the returned value will be the one from the finally clause’s return statement, \n",
    "#not the value from the try clause’s return statement**.\n",
    "\n",
    "\n"
   ]
  },
  {
   "cell_type": "code",
   "execution_count": 29,
   "id": "9f5ba8c6",
   "metadata": {},
   "outputs": [
    {
     "data": {
      "text/plain": [
       "False"
      ]
     },
     "execution_count": 29,
     "metadata": {},
     "output_type": "execute_result"
    }
   ],
   "source": [
    "def bool_return():\n",
    "    try:\n",
    "        return True\n",
    "    finally:\n",
    "        return False\n",
    "\n",
    "bool_return()"
   ]
  },
  {
   "cell_type": "code",
   "execution_count": 34,
   "id": "a1857ea2",
   "metadata": {},
   "outputs": [
    {
     "name": "stdout",
     "output_type": "stream",
     "text": [
      "result is 2.0\n",
      "executing finally clause\n",
      "division by zero!\n",
      "executing finally clause\n"
     ]
    }
   ],
   "source": [
    "def divide(x, y):\n",
    "    try:\n",
    "        result = x / y\n",
    "    except ZeroDivisionError:\n",
    "        print(\"division by zero!\")\n",
    "    else:\n",
    "        print(\"result is\", result)\n",
    "    finally:\n",
    "        print(\"executing finally clause\")    #the finally clause is executed in any event\n",
    "divide(2, 1)\n",
    "divide(2, 0)\n"
   ]
  },
  {
   "cell_type": "code",
   "execution_count": 35,
   "id": "0e35f91a",
   "metadata": {},
   "outputs": [
    {
     "name": "stdout",
     "output_type": "stream",
     "text": [
      "executing finally clause\n"
     ]
    },
    {
     "ename": "TypeError",
     "evalue": "unsupported operand type(s) for /: 'str' and 'str'",
     "output_type": "error",
     "traceback": [
      "\u001b[1;31m---------------------------------------------------------------------------\u001b[0m",
      "\u001b[1;31mTypeError\u001b[0m                                 Traceback (most recent call last)",
      "Cell \u001b[1;32mIn[35], line 10\u001b[0m\n\u001b[0;32m      8\u001b[0m     \u001b[38;5;28;01mfinally\u001b[39;00m:\n\u001b[0;32m      9\u001b[0m         \u001b[38;5;28mprint\u001b[39m(\u001b[38;5;124m\"\u001b[39m\u001b[38;5;124mexecuting finally clause\u001b[39m\u001b[38;5;124m\"\u001b[39m)\n\u001b[1;32m---> 10\u001b[0m divide(\u001b[38;5;124m\"\u001b[39m\u001b[38;5;124m2\u001b[39m\u001b[38;5;124m\"\u001b[39m, \u001b[38;5;124m\"\u001b[39m\u001b[38;5;124m1\u001b[39m\u001b[38;5;124m\"\u001b[39m)\n",
      "Cell \u001b[1;32mIn[35], line 3\u001b[0m, in \u001b[0;36mdivide\u001b[1;34m(x, y)\u001b[0m\n\u001b[0;32m      1\u001b[0m \u001b[38;5;28;01mdef\u001b[39;00m \u001b[38;5;21mdivide\u001b[39m(x, y):\n\u001b[0;32m      2\u001b[0m     \u001b[38;5;28;01mtry\u001b[39;00m:\n\u001b[1;32m----> 3\u001b[0m         result \u001b[38;5;241m=\u001b[39m x \u001b[38;5;241m/\u001b[39m y\n\u001b[0;32m      4\u001b[0m     \u001b[38;5;28;01mexcept\u001b[39;00m \u001b[38;5;167;01mZeroDivisionError\u001b[39;00m:\n\u001b[0;32m      5\u001b[0m         \u001b[38;5;28mprint\u001b[39m(\u001b[38;5;124m\"\u001b[39m\u001b[38;5;124mdivision by zero!\u001b[39m\u001b[38;5;124m\"\u001b[39m)\n",
      "\u001b[1;31mTypeError\u001b[0m: unsupported operand type(s) for /: 'str' and 'str'"
     ]
    }
   ],
   "source": [
    "def divide(x, y):\n",
    "    try:\n",
    "        result = x / y\n",
    "    except ZeroDivisionError:\n",
    "        print(\"division by zero!\")\n",
    "    else:\n",
    "        print(\"result is\", result)\n",
    "    finally:\n",
    "        print(\"executing finally clause\")   #the finally clause is executed in any event\n",
    "divide(\"2\", \"1\")                           #The TypeError raised by dividing two strings is not handled by the except clause and \n",
    "                                        #therefore re-raised after the finally clause has been executed."
   ]
  }
 ],
 "metadata": {
  "kernelspec": {
   "display_name": "Python 3 (ipykernel)",
   "language": "python",
   "name": "python3"
  },
  "language_info": {
   "codemirror_mode": {
    "name": "ipython",
    "version": 3
   },
   "file_extension": ".py",
   "mimetype": "text/x-python",
   "name": "python",
   "nbconvert_exporter": "python",
   "pygments_lexer": "ipython3",
   "version": "3.11.5"
  }
 },
 "nbformat": 4,
 "nbformat_minor": 5
}
